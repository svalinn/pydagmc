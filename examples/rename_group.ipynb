{
 "cells": [
  {
   "cell_type": "code",
   "execution_count": 1,
   "id": "cbc14d23-cf45-40a6-9423-8387e58455e4",
   "metadata": {},
   "outputs": [],
   "source": [
    "import pydagmc"
   ]
  },
  {
   "cell_type": "code",
   "execution_count": 3,
   "id": "74dc7abf-3cc9-4262-8a97-a0e8e9e5c7a7",
   "metadata": {},
   "outputs": [],
   "source": [
    "model = pydagmc.Model('fuel_pin.h5m')"
   ]
  },
  {
   "cell_type": "code",
   "execution_count": 4,
   "id": "14a6094a-c2fa-4ce5-a44c-39bde4c8b16f",
   "metadata": {},
   "outputs": [
    {
     "data": {
      "text/plain": [
       "[Group 1, Name: picked,\n",
       " Group 2, Name: mat:fuel\n",
       " Volume IDs:\n",
       " [1 2],\n",
       " Group 0, Name: mat:Graveyard\n",
       " Volume IDs:\n",
       " [6],\n",
       " Group 0, Name: mat:41\n",
       " Volume IDs:\n",
       " [3],\n",
       " Group 0, Name: temp:300\n",
       " Volume IDs:\n",
       " [1 2 3]]"
      ]
     },
     "execution_count": 4,
     "metadata": {},
     "output_type": "execute_result"
    }
   ],
   "source": [
    "model.groups"
   ]
  },
  {
   "cell_type": "code",
   "execution_count": 5,
   "id": "89d4f76b-2c69-4dcd-bc17-7b1a497436c3",
   "metadata": {},
   "outputs": [
    {
     "name": "stdout",
     "output_type": "stream",
     "text": [
      "Group 2, Name: mat:fuel\n",
      "Volume IDs:\n",
      "[1 2]\n",
      "\n"
     ]
    }
   ],
   "source": [
    "fuel_group = model.groups[1]\n",
    "print(fuel_group)"
   ]
  },
  {
   "cell_type": "code",
   "execution_count": 6,
   "id": "10c4fe44-e8de-48a4-9f3f-3d1d7ffda460",
   "metadata": {},
   "outputs": [],
   "source": [
    "fuel_group.name = 'mat:other_fuel'"
   ]
  },
  {
   "cell_type": "code",
   "execution_count": 7,
   "id": "0350862f-f678-4cc1-b78b-2c3896283935",
   "metadata": {},
   "outputs": [
    {
     "name": "stdout",
     "output_type": "stream",
     "text": [
      "Group 2, Name: other fuel\n",
      "Volume IDs:\n",
      "[1 2]\n",
      "\n"
     ]
    }
   ],
   "source": [
    "print(fuel_group)"
   ]
  },
  {
   "cell_type": "code",
   "execution_count": 8,
   "id": "9a26f985-7486-41db-90aa-59398dae0267",
   "metadata": {},
   "outputs": [],
   "source": [
    "model.write_file('updated_names.h5m')"
   ]
  },
  {
   "cell_type": "code",
   "execution_count": 9,
   "id": "1abba626-35b0-4a34-b9ea-c8f044f28b32",
   "metadata": {},
   "outputs": [],
   "source": [
    "new_model = pydagmc.Model('updated_names.h5m')"
   ]
  },
  {
   "cell_type": "code",
   "execution_count": 10,
   "id": "5515ecfa-714e-48a4-b3f9-4151487bb90c",
   "metadata": {},
   "outputs": [
    {
     "data": {
      "text/plain": [
       "[Group 1, Name: picked,\n",
       " Group 2, Name: other fuel\n",
       " Volume IDs:\n",
       " [1 2],\n",
       " Group 0, Name: mat:Graveyard\n",
       " Volume IDs:\n",
       " [6],\n",
       " Group 0, Name: mat:41\n",
       " Volume IDs:\n",
       " [3],\n",
       " Group 0, Name: temp:300\n",
       " Volume IDs:\n",
       " [1 2 3]]"
      ]
     },
     "execution_count": 10,
     "metadata": {},
     "output_type": "execute_result"
    }
   ],
   "source": [
    "new_model.groups"
   ]
  },
  {
   "cell_type": "code",
   "execution_count": null,
   "id": "b5653163-fb03-4e7c-b7c9-fd80fd0a5086",
   "metadata": {},
   "outputs": [],
   "source": []
  }
 ],
 "metadata": {
  "kernelspec": {
   "display_name": "Python 3 (ipykernel)",
   "language": "python",
   "name": "python3"
  },
  "language_info": {
   "codemirror_mode": {
    "name": "ipython",
    "version": 3
   },
   "file_extension": ".py",
   "mimetype": "text/x-python",
   "name": "python",
   "nbconvert_exporter": "python",
   "pygments_lexer": "ipython3",
   "version": "3.12.7"
  }
 },
 "nbformat": 4,
 "nbformat_minor": 5
}
